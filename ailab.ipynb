{
  "nbformat": 4,
  "nbformat_minor": 0,
  "metadata": {
    "colab": {
      "provenance": [],
      "authorship_tag": "ABX9TyO5mXIF+BrgoNtv6HYAU4sA",
      "include_colab_link": true
    },
    "kernelspec": {
      "name": "python3",
      "display_name": "Python 3"
    },
    "language_info": {
      "name": "python"
    }
  },
  "cells": [
    {
      "cell_type": "markdown",
      "metadata": {
        "id": "view-in-github",
        "colab_type": "text"
      },
      "source": [
        "<a href=\"https://colab.research.google.com/github/aayushdangol16/AI-LAB/blob/main/ailab.ipynb\" target=\"_parent\"><img src=\"https://colab.research.google.com/assets/colab-badge.svg\" alt=\"Open In Colab\"/></a>"
      ]
    },
    {
      "cell_type": "markdown",
      "source": [
        "**Prime Number**"
      ],
      "metadata": {
        "id": "LzKRE3hcesWD"
      }
    },
    {
      "cell_type": "code",
      "execution_count": 6,
      "metadata": {
        "colab": {
          "base_uri": "https://localhost:8080/"
        },
        "id": "36nUD7ITaJuJ",
        "outputId": "1e3bdfb5-7c25-46d7-c267-f348062f2cb8"
      },
      "outputs": [
        {
          "output_type": "stream",
          "name": "stdout",
          "text": [
            "Enter First Number: 2\n",
            "Enter Second Number: 8\n",
            "2\n",
            "3\n",
            "5\n",
            "7\n"
          ]
        }
      ],
      "source": [
        "def prime(x,y):\n",
        "  for i in range(x,y+1):\n",
        "    j=2\n",
        "    while(j<i):\n",
        "      if(i%j==0):\n",
        "        break\n",
        "      j=j+1\n",
        "    if(i==j):\n",
        "      print(i)\n",
        "x=int(input(\"Enter First Number: \"))\n",
        "y=int(input(\"Enter Second Number: \"))\n",
        "prime(x,y)"
      ]
    },
    {
      "cell_type": "code",
      "source": [],
      "metadata": {
        "id": "nqhboPDtyleT"
      },
      "execution_count": null,
      "outputs": []
    }
  ]
}